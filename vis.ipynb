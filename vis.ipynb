{
 "cells": [
  {
   "cell_type": "code",
   "execution_count": null,
   "id": "immune-booking",
   "metadata": {
    "scrolled": false
   },
   "outputs": [
    {
     "name": "stdout",
     "output_type": "stream",
     "text": [
      "(44, 188, 4)\n"
     ]
    },
    {
     "name": "stderr",
     "output_type": "stream",
     "text": [
      "  0%|                                                                                                                                                                                                                              | 0/5000 [00:00<?, ?it/s]/home/junyeobe/.local/lib/python3.9/site-packages/torch/nn/functional.py:3737: UserWarning: nn.functional.upsample is deprecated. Use nn.functional.interpolate instead.\n",
      "  warnings.warn(\"nn.functional.upsample is deprecated. Use nn.functional.interpolate instead.\")\n",
      "Average Loss : 0.0003827872618179147:   3%|█████▉                                                                                                                                                                      | 172/5000 [12:55<6:05:24,  4.54s/it]"
     ]
    }
   ],
   "source": [
    "from main import *\n",
    "from models import *\n",
    "from tqdm import tqdm\n",
    "\n",
    "beta_1 = 1e-4\n",
    "beta_T = 0.02\n",
    "T = 500\n",
    "shape = (44, 188, 4)\n",
    "device = torch.device('cuda')\n",
    "\n",
    "total_iteration = 2000\n",
    "\n",
    "train_sub = [1,2,3,4,5,6,7,8]\n",
    "\n",
    "train_x0, train_y0 = make_train_dataset(train_sub, [0.0])\n",
    "train_x1, train_y1 = make_train_dataset(train_sub, [1.0])\n",
    "\n",
    "\n",
    "print(train_x0[0].shape)\n",
    "train_stft0 = Stft_dataset(train_x0, train_y0)\n",
    "train_stft1 = Stft_dataset(train_x1, train_y1)\n",
    "\n",
    "score_model0 = DiffusionModel(device, beta_1, beta_T, T).to(device)\n",
    "score_model1 = DiffusionModel(device, beta_1, beta_T, T).to(device)\n",
    "\n",
    "\n",
    "dataloader0 = torch.utils.data.DataLoader(train_stft0, batch_size=32, shuffle=True, num_workers=0, drop_last=True)\n",
    "optim0 = torch.optim.Adam(score_model0.parameters(), lr = 0.0001)\n",
    "\n",
    "dataloader1 = torch.utils.data.DataLoader(train_stft1, batch_size=32, shuffle=True, num_workers=0, drop_last=True)\n",
    "optim1 = torch.optim.Adam(score_model1.parameters(), lr = 0.0001)\n",
    "\n",
    "\n",
    "total_iteration = 5000\n",
    "\n",
    "\n",
    "pbar = tqdm(range(total_iteration))\n",
    "\n",
    "for epoch in pbar:\n",
    "    losses = []\n",
    "    num_items = 0\n",
    "\n",
    "    for x, y in dataloader0:\n",
    "        data = x.to(device = device)\n",
    "        y = y.to(device = device)\n",
    "        loss = loss_fn(score_model0, data, idx=None, y=y)\n",
    "\n",
    "        optim0.zero_grad()\n",
    "        loss.backward()\n",
    "        optim0.step()\n",
    "\n",
    "        losses.append(loss.item())\n",
    "        num_items += x.shape[0]\n",
    "    pbar.set_description(\"Average Loss : {}\".format(sum(losses) / num_items))\n",
    "    if ((sum(losses) / num_items) < 8e-5):\n",
    "        break\n",
    "\n",
    "for epoch in pbar:\n",
    "    losses = []\n",
    "    num_items = 0\n",
    "\n",
    "    for x, y in dataloader1:\n",
    "        data = x.to(device = device)\n",
    "        y = y.to(device = device)\n",
    "        loss = loss_fn(score_model1, data, idx=None, y=y)\n",
    "\n",
    "        optim1.zero_grad()\n",
    "        loss.backward()\n",
    "        optim1.step()\n",
    "\n",
    "        losses.append(loss.item())\n",
    "        num_items += x.shape[0]\n",
    "    pbar.set_description(\"Average Loss : {}\".format(sum(losses) / num_items))\n",
    "    if ((sum(losses) / num_items) < 8e-5):\n",
    "        break\n"
   ]
  },
  {
   "cell_type": "code",
   "execution_count": null,
   "id": "second-wireless",
   "metadata": {},
   "outputs": [],
   "source": [
    "only_final = True\n",
    "process0 = DiffusionProcess(beta_1, beta_T, T, score_model0, device, shape)\n",
    "process1 = DiffusionProcess(beta_1, beta_T, T, score_model1, device, shape)\n",
    "\n",
    "samples0 = sample(process0, label=0, num_images=32, device=\"cuda\")\n",
    "samples1 = sample(process1, label=1, num_images=32, device=\"cuda\")\n"
   ]
  },
  {
   "cell_type": "code",
   "execution_count": null,
   "id": "electrical-weapon",
   "metadata": {
    "scrolled": false
   },
   "outputs": [],
   "source": [
    "from sklearn.manifold import TSNE\n",
    "from numpy import reshape\n",
    "import seaborn as sns\n",
    "import pandas as pd  \n",
    "\n",
    "import warnings\n",
    "\n",
    "warnings.filterwarnings(\"ignore\")\n",
    "\n",
    "\n",
    "x0 = np.array(samples0).reshape(32,-1)\n",
    "y0 = np.array([0 for i in range(32)])\n",
    "\n",
    "x1 = np.array(samples1).reshape(32,-1)\n",
    "y1 = np.array([1 for i in range(32)])\n",
    "\n",
    "x = np.concatenate([x0,x1])\n",
    "y = np.concatenate([y0,y1])\n",
    "\n",
    "tsne = TSNE(n_components=2, verbose=1)\n",
    "z = tsne.fit_transform(x) \n",
    "\n",
    "df = pd.DataFrame()\n",
    "df[\"y\"] = y\n",
    "df[\"comp-1\"] = z[:,0]\n",
    "df[\"comp-2\"] = z[:,1]"
   ]
  },
  {
   "cell_type": "code",
   "execution_count": null,
   "id": "academic-banks",
   "metadata": {
    "scrolled": false
   },
   "outputs": [],
   "source": [
    "import matplotlib.pyplot as plt\n",
    "\n",
    "\n",
    "sns.scatterplot(x=\"comp-1\", y=\"comp-2\", hue=df.y.tolist(),\n",
    "                palette=sns.color_palette(\"hls\", 4),\n",
    "                data=df).set(title=\"data T-SNE projection\") \n",
    "plt.show()\n",
    "\n",
    "vis = samples0[0][0]\n",
    "for channel in vis:\n",
    "    plt.plot(vis)\n",
    "    plt.show()"
   ]
  },
  {
   "cell_type": "code",
   "execution_count": null,
   "id": "featured-stamp",
   "metadata": {
    "scrolled": false
   },
   "outputs": [],
   "source": [
    "from main import *\n",
    "\n",
    "train_sub = [1]\n",
    "val_sub = [2]\n",
    "test_sub = [2]\n",
    "\n",
    "device = 'cuda'\n",
    "main(train_sub, val_sub, test_sub, device)\n"
   ]
  },
  {
   "cell_type": "code",
   "execution_count": null,
   "id": "phantom-diamond",
   "metadata": {},
   "outputs": [],
   "source": [
    "# 실험결과 \n",
    "# 그냥 stft 바로 집어넣었을 때 loss 0.002 부근\n",
    "\n",
    "# stft / 10 했을 때 loss 더 줄어든다\n"
   ]
  },
  {
   "cell_type": "code",
   "execution_count": null,
   "id": "streaming-baking",
   "metadata": {},
   "outputs": [],
   "source": []
  },
  {
   "cell_type": "code",
   "execution_count": null,
   "id": "surprised-purple",
   "metadata": {},
   "outputs": [],
   "source": []
  }
 ],
 "metadata": {
  "kernelspec": {
   "display_name": "Python 3 (ipykernel)",
   "language": "python",
   "name": "python3"
  },
  "language_info": {
   "codemirror_mode": {
    "name": "ipython",
    "version": 3
   },
   "file_extension": ".py",
   "mimetype": "text/x-python",
   "name": "python",
   "nbconvert_exporter": "python",
   "pygments_lexer": "ipython3",
   "version": "3.9.2"
  }
 },
 "nbformat": 4,
 "nbformat_minor": 5
}
