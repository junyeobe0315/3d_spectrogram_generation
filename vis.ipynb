{
 "cells": [
  {
   "cell_type": "code",
   "execution_count": null,
   "id": "immune-booking",
   "metadata": {
    "scrolled": false
   },
   "outputs": [],
   "source": [
    "from main import *\n",
    "from models import *\n",
    "from tqdm import tqdm\n",
    "\n",
    "train_sub = [1]\n",
    "train_x0, train_y0 = make_train_dataset(train_sub, [0])\n",
    "score_model0 = train_scorenet(train_x0, train_y0)"
   ]
  },
  {
   "cell_type": "code",
   "execution_count": null,
   "id": "second-wireless",
   "metadata": {},
   "outputs": [],
   "source": [
    "sampler0 = GaussianDiffusionSampler(score_model0, 1e-4, 0.02, 500, (44,126,16), 'epsilon', 'fixedlarge').cuda()\n",
    "samples0 = sampling(sampler0, score_model0, num_images=1)\n",
    "generated_signal0 = return_to_signal(samples0)"
   ]
  },
  {
   "cell_type": "code",
   "execution_count": null,
   "id": "southeast-contest",
   "metadata": {
    "scrolled": false
   },
   "outputs": [],
   "source": [
    "import matplotlib.pyplot as plt\n",
    "\n",
    "for signal in generated_signal0:\n",
    "    for channel in range(signal.shape[0]):\n",
    "        plt.plot(signal[channel])\n",
    "        plt.show()"
   ]
  },
  {
   "cell_type": "code",
   "execution_count": null,
   "id": "anonymous-panic",
   "metadata": {
    "scrolled": false
   },
   "outputs": [
    {
     "name": "stderr",
     "output_type": "stream",
     "text": [
      "/home/junyeobe/.local/lib/python3.9/site-packages/requests/__init__.py:102: RequestsDependencyWarning: urllib3 (1.26.13) or chardet (5.1.0)/charset_normalizer (2.0.12) doesn't match a supported version!\n",
      "  warnings.warn(\"urllib3 ({}) or chardet ({})/charset_normalizer ({}) doesn't match a supported \"\n",
      "  0%|                                                                                                                                                                                                                               | 0/500 [00:00<?, ?it/s]/home/junyeobe/.local/lib/python3.9/site-packages/torch/nn/functional.py:3737: UserWarning: nn.functional.upsample is deprecated. Use nn.functional.interpolate instead.\n",
      "  warnings.warn(\"nn.functional.upsample is deprecated. Use nn.functional.interpolate instead.\")\n",
      "Average Loss : 0.0625226185657084:  25%|████████████████████████████████████████████▎                                                                                                                                   | 126/500 [39:32<1:55:39, 18.56s/it]"
     ]
    }
   ],
   "source": [
    "from main import *\n",
    "\n",
    "train_sub = [1,2,3,4,5,6,7,8]\n",
    "val_sub = [9]\n",
    "test_sub = [9]\n",
    "\n",
    "main(train_sub, val_sub, test_sub)\n",
    "# train_witout_aug(train_sub, val_sub, test_sub) # 최대 69.97%"
   ]
  },
  {
   "cell_type": "code",
   "execution_count": null,
   "id": "spiritual-capital",
   "metadata": {},
   "outputs": [],
   "source": []
  }
 ],
 "metadata": {
  "kernelspec": {
   "display_name": "Python 3 (ipykernel)",
   "language": "python",
   "name": "python3"
  },
  "language_info": {
   "codemirror_mode": {
    "name": "ipython",
    "version": 3
   },
   "file_extension": ".py",
   "mimetype": "text/x-python",
   "name": "python",
   "nbconvert_exporter": "python",
   "pygments_lexer": "ipython3",
   "version": "3.9.2"
  }
 },
 "nbformat": 4,
 "nbformat_minor": 5
}
