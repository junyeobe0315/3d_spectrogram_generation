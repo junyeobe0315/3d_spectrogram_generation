{
 "cells": [
  {
   "cell_type": "code",
   "execution_count": null,
   "id": "immune-booking",
   "metadata": {
    "scrolled": false
   },
   "outputs": [],
   "source": [
    "from main import *\n",
    "from models import *\n",
    "from tqdm import tqdm\n",
    "\n",
    "beta_1 = 1e-4\n",
    "beta_T = 0.02\n",
    "T = 500\n",
    "shape = (44, 126, 16)\n",
    "device = torch.device('cuda')\n",
    "\n",
    "model = Model(device, beta_1, beta_T, T)\n",
    "process = DiffusionProcess(beta_1, beta_T, T, model, device, shape)\n",
    "optim = torch.optim.Adam(model.parameters(), lr = 0.0001)\n",
    "\n",
    "total_iteration = 2000\n",
    "current_iteration = 0\n",
    "\n",
    "train_sub = [1,2,3,4,5,6,7,8]\n",
    "\n",
    "train_x0, train_y0 = make_train_dataset(train_sub, 0)\n",
    "train_stft = Stft_dataset(train_x0, train_y0)\n",
    "\n",
    "dataloader = torch.utils.data.DataLoader(train_stft, batch_size = 32, drop_last = True, num_workers = 0)\n",
    "dataiterator = iter(dataloader)\n",
    "\n",
    "pbar = tqdm(range(total_iteration))\n",
    "\n",
    "\n",
    "for epoch in pbar:\n",
    "    losses = []\n",
    "    num_items = 0\n",
    "    \n",
    "    for x, y in dataloader:\n",
    "        data = x.to(device = device)\n",
    "        loss = model.loss_fn(data)\n",
    "\n",
    "        optim.zero_grad()\n",
    "        loss.backward()\n",
    "        optim.step()\n",
    "        \n",
    "        losses.append(loss.item())\n",
    "        num_items += x.shape[0]\n",
    "    pbar.set_description(\"Average loss : {}\".format(sum(losses) / num_items))"
   ]
  },
  {
   "cell_type": "code",
   "execution_count": null,
   "id": "second-wireless",
   "metadata": {},
   "outputs": [],
   "source": [
    "sampling_number = 4\n",
    "only_final = True\n",
    "process = DiffusionProcess(beta_1, beta_T, T, model, device, shape)\n",
    "sample = process.sampling(sampling_number, only_final)\n",
    "\n"
   ]
  },
  {
   "cell_type": "code",
   "execution_count": null,
   "id": "electrical-weapon",
   "metadata": {},
   "outputs": [],
   "source": [
    "from main import *\n",
    "\n",
    "generated_signal = return_to_signal(sample)"
   ]
  },
  {
   "cell_type": "code",
   "execution_count": null,
   "id": "collect-shade",
   "metadata": {
    "scrolled": false
   },
   "outputs": [],
   "source": [
    "\n",
    "train_sub = [1]\n",
    "val_sub = [9]\n",
    "test_sub = [9]\n",
    "\n",
    "main(train_sub, val_sub, test_sub)"
   ]
  },
  {
   "cell_type": "code",
   "execution_count": null,
   "id": "relevant-hello",
   "metadata": {},
   "outputs": [
    {
     "name": "stderr",
     "output_type": "stream",
     "text": [
      "/home/junyeobe/.local/lib/python3.9/site-packages/requests/__init__.py:102: RequestsDependencyWarning: urllib3 (1.26.13) or chardet (5.1.0)/charset_normalizer (2.0.12) doesn't match a supported version!\n",
      "  warnings.warn(\"urllib3 ({}) or chardet ({})/charset_normalizer ({}) doesn't match a supported \"\n",
      "  0%|                                                                                                                                                                                                                               | 0/100 [00:00<?, ?it/s]/home/junyeobe/.local/lib/python3.9/site-packages/torch/nn/functional.py:3737: UserWarning: nn.functional.upsample is deprecated. Use nn.functional.interpolate instead.\n",
      "  warnings.warn(\"nn.functional.upsample is deprecated. Use nn.functional.interpolate instead.\")\n",
      "Average loss : 0.003951587067503069:  35%|█████████████████████████████████████████████████████████████▉                                                                                                                   | 35/100 [05:21<09:51,  9.09s/it]"
     ]
    }
   ],
   "source": [
    "from main import *\n",
    "\n",
    "device = \"cuda\"\n",
    "\n",
    "train_sub = [1,2,3,4,5,6,7,8]\n",
    "val_sub = [9]\n",
    "test_sub = [9]\n",
    "\n",
    "main(train_sub, val_sub, test_sub)\n",
    "train_witout_aug(train_sub, val_sub, test_sub)"
   ]
  },
  {
   "cell_type": "code",
   "execution_count": null,
   "id": "featured-stamp",
   "metadata": {},
   "outputs": [],
   "source": []
  }
 ],
 "metadata": {
  "kernelspec": {
   "display_name": "Python 3 (ipykernel)",
   "language": "python",
   "name": "python3"
  },
  "language_info": {
   "codemirror_mode": {
    "name": "ipython",
    "version": 3
   },
   "file_extension": ".py",
   "mimetype": "text/x-python",
   "name": "python",
   "nbconvert_exporter": "python",
   "pygments_lexer": "ipython3",
   "version": "3.9.2"
  }
 },
 "nbformat": 4,
 "nbformat_minor": 5
}
