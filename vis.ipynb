{
 "cells": [
  {
   "cell_type": "code",
   "execution_count": null,
   "id": "accompanied-wallet",
   "metadata": {
    "scrolled": false
   },
   "outputs": [
    {
     "name": "stderr",
     "output_type": "stream",
     "text": [
      "/home/junyeobe/.local/lib/python3.9/site-packages/requests/__init__.py:102: RequestsDependencyWarning: urllib3 (1.26.13) or chardet (5.1.0)/charset_normalizer (2.0.12) doesn't match a supported version!\n",
      "  warnings.warn(\"urllib3 ({}) or chardet ({})/charset_normalizer ({}) doesn't match a supported \"\n",
      "  0%|                                                                                                                                                                                                                              | 0/3000 [00:00<?, ?it/s]/home/junyeobe/augment/train_scorenet.py:184: UserWarning: To copy construct from a tensor, it is recommended to use sourceTensor.clone().detach() or sourceTensor.clone().detach().requires_grad_(True), rather than torch.tensor(sourceTensor).\n",
      "  t = torch.tensor(t, device=\"cuda\")\n",
      "Score model Average Loss: 1002.109450, lr : 0.01:   6%|█████████▍                                                                                                                                                      | 176/3000 [04:42<1:14:58,  1.59s/it]"
     ]
    }
   ],
   "source": [
    "from main import *\n",
    "\n",
    "# toy example\n",
    "\n",
    "train_sub = [1]\n",
    "train_x0, train_y0 = make_train_dataset(train_sub, 0)\n",
    "score_model0 = train_scorenet(train_x0, train_y0)"
   ]
  },
  {
   "cell_type": "code",
   "execution_count": null,
   "id": "specialized-control",
   "metadata": {},
   "outputs": [],
   "source": [
    "batch_size = 1\n",
    "samples0 = sampling(score_model0, sample_batch_size=batch_size)\n",
    "\n",
    "generated_signal0 = return_to_signal(samples0)"
   ]
  },
  {
   "cell_type": "code",
   "execution_count": null,
   "id": "incoming-helena",
   "metadata": {
    "scrolled": false
   },
   "outputs": [],
   "source": [
    "import matplotlib.pyplot as plt\n",
    "\n",
    "\n",
    "for sample in samples0:\n",
    "    plt.plot(sample[0][0].cpu())\n",
    "    plt.show()\n",
    "\n",
    "for signal in generated_signal0[0][0]:\n",
    "    plt.plot(signal)\n",
    "    plt.show()\n",
    "\n",
    "\n",
    "for x in train_x0:\n",
    "    plt.plot(x[0])\n",
    "    plt.show()\n",
    "    \n"
   ]
  },
  {
   "cell_type": "code",
   "execution_count": null,
   "id": "attractive-samoa",
   "metadata": {},
   "outputs": [],
   "source": []
  }
 ],
 "metadata": {
  "kernelspec": {
   "display_name": "Python 3 (ipykernel)",
   "language": "python",
   "name": "python3"
  },
  "language_info": {
   "codemirror_mode": {
    "name": "ipython",
    "version": 3
   },
   "file_extension": ".py",
   "mimetype": "text/x-python",
   "name": "python",
   "nbconvert_exporter": "python",
   "pygments_lexer": "ipython3",
   "version": "3.9.2"
  }
 },
 "nbformat": 4,
 "nbformat_minor": 5
}
