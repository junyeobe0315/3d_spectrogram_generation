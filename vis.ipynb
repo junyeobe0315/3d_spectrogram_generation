{
 "cells": [
  {
   "cell_type": "code",
   "execution_count": null,
   "id": "prescribed-mayor",
   "metadata": {
    "scrolled": false
   },
   "outputs": [
    {
     "name": "stderr",
     "output_type": "stream",
     "text": [
      "Score model Average Loss: 676.630907, lr : 0.0002503155504993245:  16%|███████████████████████▌                                                                                                                        | 490/3000 [13:19<1:08:07,  1.63s/it]"
     ]
    }
   ],
   "source": [
    "from main import *\n",
    "\n",
    "# toy example\n",
    "\n",
    "train_sub = [1]\n",
    "sigma = 500\n",
    "train_x0, train_y0 = make_train_dataset(train_sub, 0)\n",
    "score_model0 = train_scorenet(train_x0, train_y0, sigma)"
   ]
  },
  {
   "cell_type": "code",
   "execution_count": null,
   "id": "moving-dakota",
   "metadata": {},
   "outputs": [],
   "source": [
    "batch_size = 1\n",
    "samples0 = sampling(score_model0, sample_batch_size=batch_size)\n",
    "\n",
    "generated_signal0 = return_to_signal(samples0)"
   ]
  },
  {
   "cell_type": "code",
   "execution_count": null,
   "id": "cathedral-paraguay",
   "metadata": {
    "scrolled": false
   },
   "outputs": [],
   "source": [
    "import matplotlib.pyplot as plt\n",
    "\n",
    "\n",
    "for sample in samples0:\n",
    "    plt.plot(sample[0][0].cpu())\n",
    "    plt.show()\n",
    "\n",
    "for signal in generated_signal0[0][0]:\n",
    "    plt.plot(signal)\n",
    "    plt.show()\n",
    "\n",
    "\n",
    "for x in train_x0:\n",
    "    plt.plot(x[0])\n",
    "    plt.show()\n",
    "    \n"
   ]
  },
  {
   "cell_type": "code",
   "execution_count": null,
   "id": "exciting-belly",
   "metadata": {},
   "outputs": [],
   "source": []
  },
  {
   "cell_type": "code",
   "execution_count": null,
   "id": "lightweight-lunch",
   "metadata": {},
   "outputs": [],
   "source": []
  }
 ],
 "metadata": {
  "kernelspec": {
   "display_name": "Python 3 (ipykernel)",
   "language": "python",
   "name": "python3"
  },
  "language_info": {
   "codemirror_mode": {
    "name": "ipython",
    "version": 3
   },
   "file_extension": ".py",
   "mimetype": "text/x-python",
   "name": "python",
   "nbconvert_exporter": "python",
   "pygments_lexer": "ipython3",
   "version": "3.9.2"
  }
 },
 "nbformat": 4,
 "nbformat_minor": 5
}
