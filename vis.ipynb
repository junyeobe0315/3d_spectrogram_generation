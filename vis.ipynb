{
 "cells": [
  {
   "cell_type": "code",
   "execution_count": null,
   "id": "immune-booking",
   "metadata": {
    "scrolled": false
   },
   "outputs": [
    {
     "name": "stdout",
     "output_type": "stream",
     "text": [
      "(44, 188, 4)\n"
     ]
    },
    {
     "name": "stderr",
     "output_type": "stream",
     "text": [
      "  0%|                                                                                                                                                                                                                              | 0/2000 [00:00<?, ?it/s]/home/junyeobe/.local/lib/python3.9/site-packages/torch/nn/functional.py:3737: UserWarning: nn.functional.upsample is deprecated. Use nn.functional.interpolate instead.\n",
      "  warnings.warn(\"nn.functional.upsample is deprecated. Use nn.functional.interpolate instead.\")\n",
      "Average Loss : 0.00462591973202372:   1%|█▏                                                                                                                                                                             | 14/2000 [01:58<4:39:10,  8.43s/it]"
     ]
    }
   ],
   "source": [
    "from main import *\n",
    "from models import *\n",
    "from tqdm import tqdm\n",
    "\n",
    "beta_1 = 1e-4\n",
    "beta_T = 0.02\n",
    "T = 500\n",
    "shape = (44, 188, 4)\n",
    "device = torch.device('cuda')\n",
    "\n",
    "total_iteration = 2000\n",
    "\n",
    "train_sub = [1,2,3]\n",
    "\n",
    "train_x, train_y = make_train_dataset(train_sub, [0.0, 1.0, 2.0, 3.0])\n",
    "print(train_x[0].shape)\n",
    "train_stft = Stft_dataset(train_x, train_y)\n",
    "dataloader = torch.utils.data.DataLoader(train_stft, batch_size=16, shuffle=True, num_workers=0, drop_last=True)\n",
    "\n",
    "\n",
    "score_model = DiffusionModel(device, beta_1, beta_T, T).to(device)\n",
    "optim = torch.optim.Adam(score_model.parameters(), lr = 0.0001)\n",
    "\n",
    "total_iteration = 2000\n",
    "\n",
    "\n",
    "pbar = tqdm(range(total_iteration))\n",
    "\n",
    "for epoch in pbar:\n",
    "    losses = []\n",
    "    num_items = 0\n",
    "\n",
    "    for x, y in dataloader:\n",
    "        data = x.to(device = device)\n",
    "        y = y.to(device = device)\n",
    "        loss = loss_fn(score_model, data, idx=None, y=y)\n",
    "\n",
    "        optim.zero_grad()\n",
    "        loss.backward()\n",
    "        optim.step()\n",
    "\n",
    "        losses.append(loss.item())\n",
    "        num_items += x.shape[0]\n",
    "    pbar.set_description(\"Average Loss : {}\".format(sum(losses) / num_items))\n",
    "    if ((sum(losses) / num_items) < 5e-5):\n",
    "        break"
   ]
  },
  {
   "cell_type": "code",
   "execution_count": null,
   "id": "second-wireless",
   "metadata": {},
   "outputs": [],
   "source": [
    "only_final = True\n",
    "process = DiffusionProcess(beta_1, beta_T, T, model, device, shape)\n",
    "samples = sample(process, num_images=32)"
   ]
  },
  {
   "cell_type": "code",
   "execution_count": null,
   "id": "electrical-weapon",
   "metadata": {
    "scrolled": false
   },
   "outputs": [],
   "source": [
    "import matplotlib.pyplot as plt\n",
    "\n",
    "\n",
    "vis = train_x0[0]\n",
    "\n",
    "for stft in vis:\n",
    "    plt.plot(stft)\n",
    "    plt.show()\n",
    "    break\n",
    "\n",
    "sample0 = samples[0]\n",
    "\n",
    "for stft in sample0:\n",
    "    plt.plot(stft)\n",
    "    plt.show()\n",
    "    break\n",
    "\n",
    "val_sub = [9]\n",
    "test_sub = [9]\n",
    "train_x, _, _, _, _, _ = make_classifier_dataset(train_sub, val_sub, test_sub)\n",
    "vis = train_x[0]\n",
    "\n",
    "for signal in vis:\n",
    "    plt.plot(signal)\n",
    "    plt.show()\n",
    "    break\n",
    "    \n",
    "generated_signal = return_to_signal(samples)\n",
    "for signal in generated_signal[0]:\n",
    "    plt.plot(signal)\n",
    "    plt.show()\n",
    "    break\n",
    "    \n"
   ]
  },
  {
   "cell_type": "code",
   "execution_count": null,
   "id": "featured-stamp",
   "metadata": {
    "scrolled": false
   },
   "outputs": [],
   "source": [
    "from main import *\n",
    "\n",
    "train_sub = [1]\n",
    "val_sub = [2]\n",
    "test_sub = [2]\n",
    "\n",
    "device = 'cuda'\n",
    "main(train_sub, val_sub, test_sub, device)\n"
   ]
  },
  {
   "cell_type": "code",
   "execution_count": null,
   "id": "phantom-diamond",
   "metadata": {},
   "outputs": [],
   "source": [
    "# 실험결과 \n",
    "# 그냥 stft 바로 집어넣었을 때 loss 0.002 부근\n",
    "\n",
    "# stft / 10 했을 때 loss 더 줄어든다\n"
   ]
  },
  {
   "cell_type": "code",
   "execution_count": null,
   "id": "streaming-baking",
   "metadata": {},
   "outputs": [],
   "source": []
  },
  {
   "cell_type": "code",
   "execution_count": null,
   "id": "jewish-sheet",
   "metadata": {},
   "outputs": [],
   "source": []
  }
 ],
 "metadata": {
  "kernelspec": {
   "display_name": "Python 3 (ipykernel)",
   "language": "python",
   "name": "python3"
  },
  "language_info": {
   "codemirror_mode": {
    "name": "ipython",
    "version": 3
   },
   "file_extension": ".py",
   "mimetype": "text/x-python",
   "name": "python",
   "nbconvert_exporter": "python",
   "pygments_lexer": "ipython3",
   "version": "3.9.2"
  }
 },
 "nbformat": 4,
 "nbformat_minor": 5
}
