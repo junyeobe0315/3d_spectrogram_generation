{
 "cells": [
  {
   "cell_type": "code",
   "execution_count": null,
   "id": "immune-booking",
   "metadata": {
    "scrolled": false
   },
   "outputs": [],
   "source": [
    "from main import *\n",
    "from models import *\n",
    "from tqdm import tqdm\n",
    "\n",
    "beta_1 = 1e-4\n",
    "beta_T = 0.02\n",
    "T = 1000\n",
    "shape = (44, 126, 16)\n",
    "device = torch.device('cuda')\n",
    "\n",
    "model = DiffusionModel(device, beta_1, beta_T, T)\n",
    "process = DiffusionProcess(beta_1, beta_T, T, model, device, shape)\n",
    "optim = torch.optim.Adam(model.parameters(), lr = 1e-4)\n",
    "\n",
    "total_iteration = 500\n",
    "current_iteration = 0\n",
    "\n",
    "train_sub = [1]\n",
    "\n",
    "train_x0, train_y0 = make_train_dataset(train_sub, 0)\n",
    "train_stft = Stft_dataset(train_x0, train_y0)\n",
    "\n",
    "dataloader = torch.utils.data.DataLoader(train_stft, batch_size = 16, drop_last = True, num_workers = 0)\n",
    "\n",
    "pbar = tqdm(range(total_iteration))\n",
    "\n",
    "\n",
    "for epoch in pbar:\n",
    "    losses = []\n",
    "    num_items = 0\n",
    "    \n",
    "    for x, y in dataloader:\n",
    "        data = x.to(device = device)\n",
    "        loss = loss_fn(model, x)\n",
    "\n",
    "        optim.zero_grad()\n",
    "        loss.backward()\n",
    "        optim.step()\n",
    "        \n",
    "        losses.append(loss.item())\n",
    "        num_items += x.shape[0]\n",
    "    pbar.set_description(\"Average loss : {}\".format(sum(losses) / num_items))"
   ]
  },
  {
   "cell_type": "code",
   "execution_count": null,
   "id": "second-wireless",
   "metadata": {},
   "outputs": [],
   "source": [
    "sampling_number = 4\n",
    "only_final = True\n",
    "process = DiffusionProcess(beta_1, beta_T, T, model, device, shape)\n",
    "sample = process.sampling(sampling_number, only_final)"
   ]
  },
  {
   "cell_type": "code",
   "execution_count": null,
   "id": "electrical-weapon",
   "metadata": {
    "scrolled": true
   },
   "outputs": [],
   "source": [
    "from main import *\n",
    "import matplotlib.pyplot as plt\n",
    "\n",
    "sample0 = sample[0]\n",
    "for stft in sample0:\n",
    "    plt.plot(stft.cpu())\n",
    "    plt.show()\n",
    "\n",
    "\n",
    "generated_signal = return_to_signal(sample)\n",
    "for signal in generated_signal[0]:\n",
    "    plt.plot(signal)\n",
    "    plt.show()"
   ]
  },
  {
   "cell_type": "code",
   "execution_count": null,
   "id": "featured-stamp",
   "metadata": {
    "scrolled": false
   },
   "outputs": [],
   "source": [
    "from main import *\n",
    "\n",
    "train_sub = [1]\n",
    "val_sub = [9]\n",
    "test_sub = [9]\n",
    "\n",
    "device = 'cuda'\n",
    "main(train_sub, val_sub, test_sub, device)\n"
   ]
  },
  {
   "cell_type": "code",
   "execution_count": null,
   "id": "phantom-diamond",
   "metadata": {},
   "outputs": [],
   "source": [
    "# 실험결과 \n",
    "# 그냥 stft 바로 집어넣었을 때 loss 0.002 부근\n",
    "\n",
    "# stft / 10 했을 때 loss 더 줄어든다\n"
   ]
  },
  {
   "cell_type": "code",
   "execution_count": null,
   "id": "streaming-baking",
   "metadata": {},
   "outputs": [],
   "source": []
  }
 ],
 "metadata": {
  "kernelspec": {
   "display_name": "Python 3 (ipykernel)",
   "language": "python",
   "name": "python3"
  },
  "language_info": {
   "codemirror_mode": {
    "name": "ipython",
    "version": 3
   },
   "file_extension": ".py",
   "mimetype": "text/x-python",
   "name": "python",
   "nbconvert_exporter": "python",
   "pygments_lexer": "ipython3",
   "version": "3.9.2"
  }
 },
 "nbformat": 4,
 "nbformat_minor": 5
}
