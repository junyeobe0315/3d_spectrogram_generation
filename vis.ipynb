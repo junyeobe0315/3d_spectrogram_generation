{
 "cells": [
  {
   "cell_type": "code",
   "execution_count": null,
   "id": "immune-booking",
   "metadata": {
    "scrolled": false
   },
   "outputs": [],
   "source": [
    "from main import *\n",
    "from models import *\n",
    "from tqdm import tqdm\n",
    "\n",
    "beta_1 = 1e-4\n",
    "beta_T = 0.02\n",
    "T = 500\n",
    "shape = (44, 188, 4)\n",
    "device = torch.device('cuda')\n",
    "\n",
    "model = DiffusionModel(device, beta_1, beta_T, T)\n",
    "process = DiffusionProcess(beta_1, beta_T, T, model, device, shape)\n",
    "optim = torch.optim.Adam(model.parameters(), lr = 1e-4)\n",
    "\n",
    "total_iteration = 1500\n",
    "current_iteration = 0\n",
    "\n",
    "train_sub = [1]\n",
    "\n",
    "train_x0, train_y0 = make_train_dataset(train_sub, 0)\n",
    "print(train_x0[0].shape)\n",
    "train_stft = Stft_dataset(train_x0, train_y0)\n",
    "\n",
    "dataloader = torch.utils.data.DataLoader(train_stft, batch_size = 64, drop_last = True, num_workers = 0)\n",
    "\n",
    "pbar = tqdm(range(total_iteration))\n",
    "\n",
    "\n",
    "for epoch in pbar:\n",
    "    losses = []\n",
    "    num_items = 0\n",
    "    \n",
    "    for x, y in dataloader:\n",
    "        data = x.to(device = device)\n",
    "        y = y.to(device=device)\n",
    "        loss = loss_fn(model, x, idx=None, y=y)\n",
    "\n",
    "        optim.zero_grad()\n",
    "        loss.backward()\n",
    "        optim.step()\n",
    "        \n",
    "        losses.append(loss.item())\n",
    "        num_items += x.shape[0]\n",
    "    pbar.set_description(\"Average loss : {}\".format(sum(losses) / num_items))"
   ]
  },
  {
   "cell_type": "code",
   "execution_count": null,
   "id": "second-wireless",
   "metadata": {},
   "outputs": [],
   "source": [
    "only_final = True\n",
    "process = DiffusionProcess(beta_1, beta_T, T, model, device, shape)\n",
    "samples = sample(process, num_images=32)"
   ]
  },
  {
   "cell_type": "code",
   "execution_count": null,
   "id": "electrical-weapon",
   "metadata": {
    "scrolled": false
   },
   "outputs": [],
   "source": [
    "import matplotlib.pyplot as plt\n",
    "\n",
    "\n",
    "vis = train_x0[0]\n",
    "\n",
    "for stft in vis:\n",
    "    plt.plot(stft)\n",
    "    plt.show()\n",
    "    break\n",
    "\n",
    "sample0 = samples[0]\n",
    "\n",
    "for stft in sample0:\n",
    "    plt.plot(stft)\n",
    "    plt.show()\n",
    "    break\n",
    "\n",
    "val_sub = [9]\n",
    "test_sub = [9]\n",
    "train_x, _, _, _, _, _ = make_classifier_dataset(train_sub, val_sub, test_sub)\n",
    "vis = train_x[0]\n",
    "\n",
    "for signal in vis:\n",
    "    plt.plot(signal)\n",
    "    plt.show()\n",
    "    break\n",
    "    \n",
    "generated_signal = return_to_signal(samples)\n",
    "for signal in generated_signal[0]:\n",
    "    plt.plot(signal)\n",
    "    plt.show()\n",
    "    break\n",
    "    \n"
   ]
  },
  {
   "cell_type": "code",
   "execution_count": null,
   "id": "featured-stamp",
   "metadata": {
    "scrolled": false
   },
   "outputs": [
    {
     "name": "stderr",
     "output_type": "stream",
     "text": [
      "2023-05-17 20:22:01.023895: I tensorflow/core/platform/cpu_feature_guard.cc:182] This TensorFlow binary is optimized to use available CPU instructions in performance-critical operations.\n",
      "To enable the following instructions: AVX2 FMA, in other operations, rebuild TensorFlow with the appropriate compiler flags.\n",
      "2023-05-17 20:22:01.483772: W tensorflow/compiler/tf2tensorrt/utils/py_utils.cc:38] TF-TRT Warning: Could not find TensorRT\n",
      "/home/junyeobe/.local/lib/python3.9/site-packages/requests/__init__.py:102: RequestsDependencyWarning: urllib3 (1.26.13) or chardet (5.1.0)/charset_normalizer (2.0.12) doesn't match a supported version!\n",
      "  warnings.warn(\"urllib3 ({}) or chardet ({})/charset_normalizer ({}) doesn't match a supported \"\n",
      "  0%|                                                                                                                                                                                                                                 | 0/1 [00:00<?, ?it/s]/home/junyeobe/.local/lib/python3.9/site-packages/torch/nn/functional.py:3737: UserWarning: nn.functional.upsample is deprecated. Use nn.functional.interpolate instead.\n",
      "  warnings.warn(\"nn.functional.upsample is deprecated. Use nn.functional.interpolate instead.\")\n",
      "Average Loss : 0.059329538606107235: 100%|████████████████████████████████████████████████████████████████████████████████████████████████████████████████████████████████████████████████████████████████████████████████████| 1/1 [00:03<00:00,  3.24s/it]\n",
      "100%|█████████████████████████████████████████████████████████████████████████████████████████████████████████████████████████████████████████████████████████████████████████████████████████████████████████████████████████| 2/2 [00:38<00:00, 19.22s/it]\n",
      "100%|█████████████████████████████████████████████████████████████████████████████████████████████████████████████████████████████████████████████████████████████████████████████████████████████████████████████████████████| 2/2 [00:38<00:00, 19.14s/it]\n",
      "100%|█████████████████████████████████████████████████████████████████████████████████████████████████████████████████████████████████████████████████████████████████████████████████████████████████████████████████████████| 2/2 [00:38<00:00, 19.13s/it]\n",
      "100%|█████████████████████████████████████████████████████████████████████████████████████████████████████████████████████████████████████████████████████████████████████████████████████████████████████████████████████████| 2/2 [00:38<00:00, 19.14s/it]\n",
      "/home/junyeobe/augment/main.py:101: UserWarning: Casting complex values to real discards the imaginary part (Triggered internally at ../aten/src/ATen/native/Copy.cpp:276.)\n",
      "  generated_stft_imag[idx] = np.multiply(imag, complex(0,1))\n",
      "/home/junyeobe/.local/lib/python3.9/site-packages/scipy/signal/_spectral_py.py:1492: UserWarning: NOLA condition failed, STFT may not be invertible\n",
      "  warnings.warn(\"NOLA condition failed, STFT may not be invertible\")\n",
      "/home/junyeobe/.local/lib/python3.9/site-packages/scipy/signal/_spectral_py.py:1492: UserWarning: NOLA condition failed, STFT may not be invertible\n",
      "  warnings.warn(\"NOLA condition failed, STFT may not be invertible\")\n",
      "/home/junyeobe/.local/lib/python3.9/site-packages/scipy/signal/_spectral_py.py:1492: UserWarning: NOLA condition failed, STFT may not be invertible\n",
      "  warnings.warn(\"NOLA condition failed, STFT may not be invertible\")\n"
     ]
    },
    {
     "name": "stdout",
     "output_type": "stream",
     "text": [
      "Generated signal shape :  (64, 22, 1126)\n",
      "Generated signal shape :  (64, 22, 1126)\n",
      "Generated signal shape :  (64, 22, 1126)\n"
     ]
    },
    {
     "name": "stderr",
     "output_type": "stream",
     "text": [
      "/home/junyeobe/.local/lib/python3.9/site-packages/scipy/signal/_spectral_py.py:1492: UserWarning: NOLA condition failed, STFT may not be invertible\n",
      "  warnings.warn(\"NOLA condition failed, STFT may not be invertible\")\n"
     ]
    },
    {
     "name": "stdout",
     "output_type": "stream",
     "text": [
      "Generated signal shape :  (64, 22, 1126)\n",
      "generated signal length :  256\n"
     ]
    },
    {
     "name": "stderr",
     "output_type": "stream",
     "text": [
      "2023-05-17 20:24:46.214310: I tensorflow/compiler/xla/stream_executor/cuda/cuda_gpu_executor.cc:982] could not open file to read NUMA node: /sys/bus/pci/devices/0000:01:00.0/numa_node\n",
      "Your kernel may have been built without NUMA support.\n",
      "2023-05-17 20:24:46.248621: I tensorflow/compiler/xla/stream_executor/cuda/cuda_gpu_executor.cc:982] could not open file to read NUMA node: /sys/bus/pci/devices/0000:01:00.0/numa_node\n",
      "Your kernel may have been built without NUMA support.\n",
      "2023-05-17 20:24:46.248907: I tensorflow/compiler/xla/stream_executor/cuda/cuda_gpu_executor.cc:982] could not open file to read NUMA node: /sys/bus/pci/devices/0000:01:00.0/numa_node\n",
      "Your kernel may have been built without NUMA support.\n",
      "2023-05-17 20:24:46.250108: I tensorflow/compiler/xla/stream_executor/cuda/cuda_gpu_executor.cc:982] could not open file to read NUMA node: /sys/bus/pci/devices/0000:01:00.0/numa_node\n",
      "Your kernel may have been built without NUMA support.\n",
      "2023-05-17 20:24:46.250360: I tensorflow/compiler/xla/stream_executor/cuda/cuda_gpu_executor.cc:982] could not open file to read NUMA node: /sys/bus/pci/devices/0000:01:00.0/numa_node\n",
      "Your kernel may have been built without NUMA support.\n",
      "2023-05-17 20:24:46.250566: I tensorflow/compiler/xla/stream_executor/cuda/cuda_gpu_executor.cc:982] could not open file to read NUMA node: /sys/bus/pci/devices/0000:01:00.0/numa_node\n",
      "Your kernel may have been built without NUMA support.\n",
      "2023-05-17 20:24:46.250948: I tensorflow/compiler/xla/stream_executor/cuda/cuda_gpu_executor.cc:982] could not open file to read NUMA node: /sys/bus/pci/devices/0000:01:00.0/numa_node\n",
      "Your kernel may have been built without NUMA support.\n",
      "2023-05-17 20:24:46.251188: I tensorflow/compiler/xla/stream_executor/cuda/cuda_gpu_executor.cc:982] could not open file to read NUMA node: /sys/bus/pci/devices/0000:01:00.0/numa_node\n",
      "Your kernel may have been built without NUMA support.\n",
      "2023-05-17 20:24:46.251198: I tensorflow/core/common_runtime/gpu/gpu_device.cc:1722] Could not identify NUMA node of platform GPU id 0, defaulting to 0.  Your kernel may not have been built with NUMA support.\n",
      "2023-05-17 20:24:46.251399: I tensorflow/compiler/xla/stream_executor/cuda/cuda_gpu_executor.cc:982] could not open file to read NUMA node: /sys/bus/pci/devices/0000:01:00.0/numa_node\n",
      "Your kernel may have been built without NUMA support.\n",
      "2023-05-17 20:24:46.251426: I tensorflow/core/common_runtime/gpu/gpu_device.cc:1635] Created device /job:localhost/replica:0/task:0/device:GPU:0 with 3966 MB memory:  -> device: 0, name: NVIDIA GeForce RTX 3070, pci bus id: 0000:01:00.0, compute capability: 8.6\n"
     ]
    },
    {
     "name": "stdout",
     "output_type": "stream",
     "text": [
      "Epoch 1/1000\n"
     ]
    }
   ],
   "source": [
    "from main import *\n",
    "\n",
    "train_sub = [1]\n",
    "val_sub = [2]\n",
    "test_sub = [2]\n",
    "\n",
    "device = 'cuda'\n",
    "main(train_sub, val_sub, test_sub, device)\n"
   ]
  },
  {
   "cell_type": "code",
   "execution_count": null,
   "id": "phantom-diamond",
   "metadata": {},
   "outputs": [],
   "source": [
    "# 실험결과 \n",
    "# 그냥 stft 바로 집어넣었을 때 loss 0.002 부근\n",
    "\n",
    "# stft / 10 했을 때 loss 더 줄어든다\n"
   ]
  },
  {
   "cell_type": "code",
   "execution_count": null,
   "id": "streaming-baking",
   "metadata": {},
   "outputs": [],
   "source": []
  },
  {
   "cell_type": "code",
   "execution_count": null,
   "id": "interpreted-project",
   "metadata": {},
   "outputs": [],
   "source": []
  }
 ],
 "metadata": {
  "kernelspec": {
   "display_name": "Python 3 (ipykernel)",
   "language": "python",
   "name": "python3"
  },
  "language_info": {
   "codemirror_mode": {
    "name": "ipython",
    "version": 3
   },
   "file_extension": ".py",
   "mimetype": "text/x-python",
   "name": "python",
   "nbconvert_exporter": "python",
   "pygments_lexer": "ipython3",
   "version": "3.9.2"
  }
 },
 "nbformat": 4,
 "nbformat_minor": 5
}
