{
 "cells": [
  {
   "cell_type": "code",
   "execution_count": 1,
   "id": "angry-wholesale",
   "metadata": {},
   "outputs": [
    {
     "name": "stderr",
     "output_type": "stream",
     "text": [
      "/home/junyeobe/.local/lib/python3.9/site-packages/requests/__init__.py:102: RequestsDependencyWarning: urllib3 (1.26.13) or chardet (5.1.0)/charset_normalizer (2.0.12) doesn't match a supported version!\n",
      "  warnings.warn(\"urllib3 ({}) or chardet ({})/charset_normalizer ({}) doesn't match a supported \"\n"
     ]
    }
   ],
   "source": [
    "from main import *"
   ]
  },
  {
   "cell_type": "code",
   "execution_count": null,
   "id": "tired-stress",
   "metadata": {},
   "outputs": [
    {
     "name": "stdout",
     "output_type": "stream",
     "text": [
      "train length :  432\n"
     ]
    },
    {
     "name": "stderr",
     "output_type": "stream",
     "text": [
      "Score model Average Loss: 23747.645038:   8%|████████▉                                                                                                 | 421/5000 [15:45<2:52:04,  2.25s/it]"
     ]
    }
   ],
   "source": [
    "# toy example\n",
    "\n",
    "train_sub = [1,2,3]\n",
    "train_x0, train_y0 = make_train_dataset(train_sub, 0)\n",
    "score_model0 = train_scorenet(train_x0, train_y0)"
   ]
  },
  {
   "cell_type": "code",
   "execution_count": null,
   "id": "light-questionnaire",
   "metadata": {},
   "outputs": [],
   "source": [
    "samples0 = sampling(score_model0, sample_batch_size=batch_size)\n",
    "\n",
    "generated_signal0 = return_to_signal(samples0)\n"
   ]
  },
  {
   "cell_type": "code",
   "execution_count": null,
   "id": "operating-oklahoma",
   "metadata": {},
   "outputs": [],
   "source": []
  }
 ],
 "metadata": {
  "kernelspec": {
   "display_name": "Python 3 (ipykernel)",
   "language": "python",
   "name": "python3"
  },
  "language_info": {
   "codemirror_mode": {
    "name": "ipython",
    "version": 3
   },
   "file_extension": ".py",
   "mimetype": "text/x-python",
   "name": "python",
   "nbconvert_exporter": "python",
   "pygments_lexer": "ipython3",
   "version": "3.9.2"
  }
 },
 "nbformat": 4,
 "nbformat_minor": 5
}
