{
 "cells": [
  {
   "cell_type": "code",
   "execution_count": null,
   "id": "intense-trouble",
   "metadata": {
    "scrolled": false
   },
   "outputs": [],
   "source": [
    "from main import *\n",
    "train_sub = [1,2,4,5,6,7,8,9]\n",
    "val_sub = [3]\n",
    "test_sub = [3]\n",
    "\n",
    "train_without_aug(train_sub, val_sub, test_sub)"
   ]
  },
  {
   "cell_type": "code",
   "execution_count": null,
   "id": "circular-butterfly",
   "metadata": {
    "scrolled": false
   },
   "outputs": [],
   "source": [
    "train_sub = [1,2,3,4,6,7,8,9]\n",
    "val_sub = [5]\n",
    "test_sub = [5]\n",
    "\n",
    "train_without_aug(train_sub, val_sub, test_sub)"
   ]
  },
  {
   "cell_type": "code",
   "execution_count": null,
   "id": "dated-edmonton",
   "metadata": {},
   "outputs": [],
   "source": []
  }
 ],
 "metadata": {
  "kernelspec": {
   "display_name": "Python 3 (ipykernel)",
   "language": "python",
   "name": "python3"
  },
  "language_info": {
   "codemirror_mode": {
    "name": "ipython",
    "version": 3
   },
   "file_extension": ".py",
   "mimetype": "text/x-python",
   "name": "python",
   "nbconvert_exporter": "python",
   "pygments_lexer": "ipython3",
   "version": "3.9.2"
  }
 },
 "nbformat": 4,
 "nbformat_minor": 5
}
