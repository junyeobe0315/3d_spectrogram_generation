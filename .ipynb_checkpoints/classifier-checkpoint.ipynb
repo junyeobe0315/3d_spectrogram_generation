{
 "cells": [
  {
   "cell_type": "code",
   "execution_count": 26,
   "id": "standard-alberta",
   "metadata": {},
   "outputs": [],
   "source": [
    "from utils.load_data import *\n",
    "from Graph_CSPNet_BCIC_Holdout import *\n",
    "\n",
    "BCIC_dataset = load_BCIC(\n",
    "    train_sub=[1,2,3,4,5,6,7],\n",
    "    valid_sub=[8],\n",
    "    test_sub=[9],\n",
    "    alg_name = 'Graph_CSPNet',\n",
    "    scenario = 'subject-independent'\n",
    "    )\n",
    "train_x, train_y, valid_x, valid_y, test_x, test_y = BCIC_dataset.generate_training_valid_test_set_subject_independent()\n",
    "graph_M, adj_M = BCIC_dataset.LGT_graph_matrix_fn()"
   ]
  },
  {
   "cell_type": "code",
   "execution_count": 5,
   "id": "informal-voluntary",
   "metadata": {
    "scrolled": false
   },
   "outputs": [],
   "source": [
    "for sub in range(1, 10):\n",
    "\n",
    "    test_sub = [sub]\n",
    "    train_sub = [i for i in range(1, sub)] + [i for i in range(sub, 10)]\n",
    "    \n",
    "    BCIC_dataset = load_BCIC(\n",
    "    train_sub=train_sub,\n",
    "    test_sub=test_sub,\n",
    "    alg_name = 'Graph_CSPNet',\n",
    "    scenario = 'subject-independent'\n",
    "    )\n",
    "\n",
    "    train_x, train_y, valid_x, valid_y, test_x, test_y = BCIC_dataset.generate_training_valid_test_set_subject_independent()\n",
    "    graph_M, adj_M = BCIC_dataset.LGT_graph_matrix_fn()\n",
    "    \n",
    "    acc, loss = main(\n",
    "    train      = train_x, \n",
    "    val        = valid_x,\n",
    "    test       = test_x, \n",
    "    train_y    = train_y,\n",
    "    val_y      = valid_y,\n",
    "    test_y     = test_y,\n",
    "    graph_matrix = graph_M,\n",
    "    adjacency_matrix = adj_M, \n",
    "    sub        = sub, \n",
    "    total_sub  = 9, \n",
    "    validation = False,\n",
    "    mlp=True\n",
    "    )"
   ]
  },
  {
   "cell_type": "code",
   "execution_count": 18,
   "id": "thousand-disclaimer",
   "metadata": {},
   "outputs": [],
   "source": []
  },
  {
   "cell_type": "code",
   "execution_count": null,
   "id": "center-activation",
   "metadata": {},
   "outputs": [],
   "source": []
  }
 ],
 "metadata": {
  "kernelspec": {
   "display_name": "Python 3 (ipykernel)",
   "language": "python",
   "name": "python3"
  },
  "language_info": {
   "codemirror_mode": {
    "name": "ipython",
    "version": 3
   },
   "file_extension": ".py",
   "mimetype": "text/x-python",
   "name": "python",
   "nbconvert_exporter": "python",
   "pygments_lexer": "ipython3",
   "version": "3.9.2"
  }
 },
 "nbformat": 4,
 "nbformat_minor": 5
}
